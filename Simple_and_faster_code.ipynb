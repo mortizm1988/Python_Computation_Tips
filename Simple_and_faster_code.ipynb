{
 "cells": [
  {
   "cell_type": "markdown",
   "id": "002fe213",
   "metadata": {},
   "source": [
    "# Tips & Advice for Python Programing in Financial Accounting Research\n",
    "This notebook contains some tricks I have learned while coding computational methods in Financial Accounting Research. The first section focuses on tricks to make your code shorter and more readable, while the second section focuses on how to make your code faster. Keep in mind that a faster code is not necessarily easy to read. The recommendation is to use readable code as much as possible except in the blocks that take too long to compute.\n",
    "\n",
    "The content is strongly influenced by other people's work. See the list below:\n",
    "[Python Engineer](https://www.youtube.com/watch?v=8OKTAedgFYg)\n",
    "[Corey Schafer](https://www.youtube.com/watch?v=C-gEQdGVXbk)\n",
    "[mCoding](https://www.youtube.com/watch?v=m_a0fN48Alw)"
   ]
  },
  {
   "cell_type": "markdown",
   "id": "8f4b000e",
   "metadata": {},
   "source": [
    "# 1. Better code\n",
    "## 1.1 Iterate with Enumerate instead of Range(len())"
   ]
  },
  {
   "cell_type": "code",
   "execution_count": 1,
   "id": "59dd3f1f",
   "metadata": {},
   "outputs": [
    {
     "name": "stdout",
     "output_type": "stream",
     "text": [
      "[1, 2, 3, 0]\n",
      "[1, 2, 3, 0]\n"
     ]
    }
   ],
   "source": [
    "data=[1,2,3,-4]\n",
    "#classic approach\n",
    "for i in range(len(data)):\n",
    "    if data[i]<0:\n",
    "            data[i]=0\n",
    "print(data)\n",
    "\n",
    "#enumerate: capture the index, the values, and the length of the list.\n",
    "for ind, value in enumerate(data):\n",
    "    if value<0:\n",
    "        data[ind]=0\n",
    "print(data)"
   ]
  },
  {
   "cell_type": "markdown",
   "id": "a26c739d",
   "metadata": {},
   "source": [
    "## 1.2 Iterate in multiple lists with ZIP\n",
    "Iterate in two or more lists of the same size. Useful when computing expected values. Is this faster relative to a matrix multiplication? We will see it later."
   ]
  },
  {
   "cell_type": "code",
   "execution_count": 2,
   "id": "5e6f6d44",
   "metadata": {},
   "outputs": [
    {
     "name": "stdout",
     "output_type": "stream",
     "text": [
      " the expected value is 3.0\n"
     ]
    }
   ],
   "source": [
    "probabilities=[0.1,0.2,0.3,0.4]\n",
    "values=[1,2,3,4]\n",
    "multiplications=[]\n",
    "#by using zip() we avoid doing coding a doble iteration.\n",
    "for prob, value in zip(probabilities,values):\n",
    "    multiplications.append(prob*value)\n",
    "print(f\" the expected value is {sum(multiplications)}\")"
   ]
  },
  {
   "cell_type": "markdown",
   "id": "52ed3861",
   "metadata": {},
   "source": [
    "## 1.2 Use list comprehension instead of loops"
   ]
  },
  {
   "cell_type": "code",
   "execution_count": 3,
   "id": "4e7b6e99",
   "metadata": {},
   "outputs": [
    {
     "name": "stdout",
     "output_type": "stream",
     "text": [
      "[0, 1, 4, 9, 16, 25, 36, 49, 64, 81]\n",
      "[0, 1, 4, 9, 16, 25, 36, 49, 64, 81]\n"
     ]
    }
   ],
   "source": [
    "squares=[]\n",
    "for i in range(10):\n",
    "    squares.append(i*i)\n",
    "print(squares)\n",
    "\n",
    "squares2=[i*i for i in range(10)]  # the same result but in just one line\n",
    "print(squares2)\n"
   ]
  },
  {
   "cell_type": "markdown",
   "id": "333d48e1",
   "metadata": {},
   "source": [
    "## 1.3 Use ternary conditionals instead of the classic \"if-else\" block"
   ]
  },
  {
   "cell_type": "code",
   "execution_count": 4,
   "id": "73ae693b",
   "metadata": {},
   "outputs": [
    {
     "name": "stdout",
     "output_type": "stream",
     "text": [
      "1\n",
      "1\n"
     ]
    }
   ],
   "source": [
    "condition=False\n",
    "\n",
    "#classic approach\n",
    "if condition==False:\n",
    "    x=1\n",
    "else:\n",
    "    x=0\n",
    "print(x)\n",
    "\n",
    "# ternary approach\n",
    "x=1 if condition==False else 0\n",
    "print(x)"
   ]
  },
  {
   "cell_type": "markdown",
   "id": "52c03033",
   "metadata": {},
   "source": [
    "## 1.4 Save memory with generators or iter lists\n",
    "If the use of memory is a concern, **do not** use lists."
   ]
  },
  {
   "cell_type": "code",
   "execution_count": 5,
   "id": "ff6c65db",
   "metadata": {},
   "outputs": [
    {
     "name": "stdout",
     "output_type": "stream",
     "text": [
      "4999950000\n",
      "824456 bytes\n",
      "4999950000\n",
      "48 bytes\n",
      "4999950000\n",
      "48 bytes\n",
      "4999950000\n",
      "112 bytes\n"
     ]
    }
   ],
   "source": [
    "import sys\n",
    "my_list =[i for i in range(100000)] #list comprehension uses a lot of memory\n",
    "print(sum(my_list))\n",
    "print(sys.getsizeof(my_list),\"bytes\")\n",
    "\n",
    "my_iter =iter(range(100000)) # Iterators barely use memory\n",
    "print(sum(my_iter))\n",
    "print(sys.getsizeof(my_iter),\"bytes\")\n",
    "\n",
    "my_iter_list =iter([i for i in range(100000)]) # List Iterators barely use memory\n",
    "print(sum(my_iter_list))\n",
    "print(sys.getsizeof(my_iter_list),\"bytes\")\n",
    "\n",
    "my_gen =(i for i in range(100000)) #Generators also less  memory\n",
    "print(sum(my_gen))\n",
    "print(sys.getsizeof(my_gen),\"bytes\")"
   ]
  },
  {
   "cell_type": "markdown",
   "id": "42442a92",
   "metadata": {},
   "source": [
    "## 1.5 Easy to count (million)"
   ]
  },
  {
   "cell_type": "code",
   "execution_count": 6,
   "id": "b8518e0f",
   "metadata": {},
   "outputs": [
    {
     "name": "stdout",
     "output_type": "stream",
     "text": [
      "2,100,000,000\n"
     ]
    }
   ],
   "source": [
    "num1=100_000_000     # use _ to visualize numbers better.\n",
    "num2=2_000_000_000\n",
    "total=num1+num2\n",
    "print(f\"{total:,}\")  # also the output"
   ]
  },
  {
   "cell_type": "markdown",
   "id": "429a4d9f",
   "metadata": {},
   "source": [
    "## 1.6 Unpacking values from tuples"
   ]
  },
  {
   "cell_type": "code",
   "execution_count": 7,
   "id": "962e17ce",
   "metadata": {},
   "outputs": [
    {
     "name": "stdout",
     "output_type": "stream",
     "text": [
      "1\n",
      "2\n",
      "1\n",
      "2\n",
      "[3, 4, 5, 6, 7]\n",
      "1\n",
      "2\n",
      "7\n"
     ]
    }
   ],
   "source": [
    "parameters=(1,2,3,4,5,6,7)\n",
    "\n",
    "α,β,γ,δ,η,ρ,τ=parameters  #full unpacking\n",
    "print(α)\n",
    "print(β)\n",
    "\n",
    "a,b,*c = parameters       #partial unpacking\n",
    "print(a)\n",
    "print(b)\n",
    "print(c)\n",
    "\n",
    "x,y,*_,z =parameters       #partial unpacking\n",
    "print(x)\n",
    "print(y)\n",
    "print(z)"
   ]
  },
  {
   "cell_type": "markdown",
   "id": "a9cc44c5",
   "metadata": {},
   "source": [
    "# 2. Speed up your code\n",
    "## 2.1 Comparing iterators, list comprehension, and generators.\n",
    "If the speed is a concern, **do** use lists."
   ]
  },
  {
   "cell_type": "code",
   "execution_count": 8,
   "id": "a2e68f3f",
   "metadata": {},
   "outputs": [
    {
     "name": "stdout",
     "output_type": "stream",
     "text": [
      "type: <class 'range_iterator'>, Time: 0.130 [sec]\n",
      "type: <class 'list'>, Time: 0.043 [sec]\n",
      "type: <class 'list_iterator'>, Time: 0.132 [sec]\n",
      "type: <class 'generator'>, Time: 0.333 [sec]\n"
     ]
    }
   ],
   "source": [
    "import time\n",
    "\n",
    "n = 10000000\n",
    "\n",
    "# iterator on a range: Fast.\n",
    "iter_ = iter(range(n)) \n",
    "\n",
    "# list comprehension: Fastest, altough it saves all the elements in the memory.\n",
    "list_comp = [i for i in range(n)] \n",
    "\n",
    "# iterator on a list comprehension:  Fast.\n",
    "iter_list_comp = iter([i for i in range(n)])\n",
    "\n",
    "# generator: super slow, because they yield one result at a time (using less memory).\n",
    "gene = (i for i in range(n))\n",
    "\n",
    "for xs in [iter_, list_comp, iter_list_comp, gene]:\n",
    "    start = time.time()\n",
    "    sum(xs)\n",
    "    end = time.time()\n",
    "    print(f\"type: {type(xs)}, Time: {(end-start):.3f} [sec]\")"
   ]
  },
  {
   "cell_type": "markdown",
   "id": "57ea412f",
   "metadata": {},
   "source": [
    "## 2.2 Use explicit static definition\n",
    "Defining the variable type speeds up the code since the compiler does not have to interpret. The speed gain is noticeable just the first time you run it. Anycase, it is good advice to use explicit definition since it helps identify bugs."
   ]
  },
  {
   "cell_type": "code",
   "execution_count": 19,
   "id": "35086705",
   "metadata": {},
   "outputs": [
    {
     "name": "stdout",
     "output_type": "stream",
     "text": [
      "static definition method. Time:0.61471[sec]\n",
      "normal method. Time:0.62027[sec]\n"
     ]
    }
   ],
   "source": [
    "import time\n",
    "import numpy.typing as npt\n",
    "import numpy as np\n",
    "\n",
    "def supersum(x:int,y:float,w:bool, arr: npt.ArrayLike)->np.ndarray:\n",
    "    z=sum(i for i in range(x))\n",
    "    if w==True:\n",
    "        z=z/y*arr\n",
    "    return z \n",
    "def simplesum(x,y,w,arr):\n",
    "    z=sum(i for i in range(x))\n",
    "    if w==True:\n",
    "        z=z/y*arr\n",
    "    return z\n",
    "\n",
    "nparray=np.ones((1000,500000))\n",
    "\n",
    "start = time.time()\n",
    "zz=supersum(1000000,33,True,nparray)\n",
    "end = time.time()\n",
    "print(f\"static definition method. Time:{(end-start):.5f}[sec]\")\n",
    "\n",
    "start = time.time()\n",
    "zz=simplesum(1000000,33,True,nparray)\n",
    "end = time.time()\n",
    "print(f\"normal method. Time:{(end-start):.5f}[sec]\")"
   ]
  },
  {
   "cell_type": "markdown",
   "id": "0fb5d9fd",
   "metadata": {},
   "source": [
    "## 2.3 Iteration in two arrays: comparing 3 alternatives to compute expectations\n",
    "if speed is a concern, use matrix operations and avoid to use zip()"
   ]
  },
  {
   "cell_type": "code",
   "execution_count": 10,
   "id": "65179542",
   "metadata": {},
   "outputs": [],
   "source": [
    "def double_iteration(values: npt.ArrayLike,probabilities: npt.ArrayLike)->int:\n",
    "    mult1=np.empty(len(probabilities))\n",
    "    for ind,prob in enumerate(probabilities):\n",
    "        mult1[ind]=prob*values[ind]\n",
    "    expectation=np.sum(mult1)\n",
    "    return expectation\n",
    "\n",
    "def zip_iteration(values: npt.ArrayLike,probabilities: npt.ArrayLike)->int:\n",
    "    mult1=np.empty(len(probabilities))\n",
    "    for value,prob in zip(values,probabilities):\n",
    "        np.append(mult1,prob*value)\n",
    "    expectation=np.sum(mult1)\n",
    "    return expectation\n",
    "\n",
    "def matrix_operation(values: npt.ArrayLike,probabilities: npt.ArrayLike)->int:\n",
    "    expectation=values.T@probabilities #np.dot() takes almost the same time\n",
    "    return expectation"
   ]
  },
  {
   "cell_type": "code",
   "execution_count": 11,
   "id": "bce42dcb",
   "metadata": {},
   "outputs": [
    {
     "name": "stdout",
     "output_type": "stream",
     "text": [
      "double_iteration: Result: 50.00, Time: 0.00026[sec]\n",
      "zip_iteration: Result: 49.42, Time: 0.00602[sec]\n",
      "matrix_operation: Result: 50.00, Time: 0.00149[sec]\n"
     ]
    }
   ],
   "source": [
    "probabilities=np.ones(1000)*1/1000\n",
    "values=np.linspace(0,100,1000)\n",
    "\n",
    "# first method (the second place)\n",
    "start = time.time()\n",
    "mat1=double_iteration(values,probabilities)\n",
    "end = time.time()\n",
    "print(f\"double_iteration: Result: {mat1:.2f}, Time: {(end-start):.5f}[sec]\")\n",
    "\n",
    "# second method (the slowest)\n",
    "start = time.time()\n",
    "mat2=zip_iteration(values,probabilities)\n",
    "end = time.time()\n",
    "print(f\"zip_iteration: Result: {mat2:.2f}, Time: {(end-start):.5f}[sec]\")\n",
    "\n",
    "# third method (the fastest!)\n",
    "start = time.time()\n",
    "mat3=matrix_operation(values,probabilities)\n",
    "end = time.time()\n",
    "print(f\"matrix_operation: Result: {mat3:.2f}, Time: {(end-start):.5f}[sec]\")\n"
   ]
  },
  {
   "cell_type": "markdown",
   "id": "0c460f27",
   "metadata": {},
   "source": [
    "## 2.4 What is taking so long? Profiling\n",
    "We need to identify the functions/operations that are taking more time. This allows us to focalized the effort to improve the few lines of code with more impact on the total time (\"tottime\")."
   ]
  },
  {
   "cell_type": "code",
   "execution_count": 22,
   "id": "4a5cc480",
   "metadata": {},
   "outputs": [
    {
     "name": "stdout",
     "output_type": "stream",
     "text": [
      "         1025019 function calls (1023019 primitive calls) in 0.712 seconds\n",
      "\n",
      "   Ordered by: internal time\n",
      "\n",
      "   ncalls  tottime  percall  cumtime  percall filename:lineno(function)\n",
      "        1    0.577    0.577    0.705    0.705 /tmp/ipykernel_223994/3952873066.py:5(supersum)\n",
      "  1000001    0.069    0.000    0.069    0.000 /tmp/ipykernel_223994/3952873066.py:6(<genexpr>)\n",
      "        2    0.059    0.030    0.129    0.064 {built-in method builtins.sum}\n",
      "3001/1001    0.002    0.000    0.005    0.000 {built-in method numpy.core._multiarray_umath.implement_array_function}\n",
      "    10001    0.001    0.000    0.001    0.000 /tmp/ipykernel_223994/2850951957.py:8(<genexpr>)\n",
      "     1000    0.001    0.000    0.004    0.000 /home/marcelo/anaconda3/lib/python3.8/site-packages/numpy/lib/function_base.py:4762(append)\n",
      "        1    0.001    0.001    0.006    0.006 /tmp/ipykernel_223994/1934078803.py:8(zip_iteration)\n",
      "     1000    0.000    0.000    0.001    0.000 /home/marcelo/anaconda3/lib/python3.8/site-packages/numpy/core/fromnumeric.py:1718(ravel)\n",
      "     1000    0.000    0.000    0.002    0.000 <__array_function__ internals>:2(concatenate)\n",
      "     1000    0.000    0.000    0.002    0.000 <__array_function__ internals>:2(ravel)\n",
      "     1000    0.000    0.000    0.006    0.000 <__array_function__ internals>:2(append)\n",
      "     2000    0.000    0.000    0.000    0.000 {built-in method numpy.asanyarray}\n",
      "     1000    0.000    0.000    0.000    0.000 {method 'ravel' of 'numpy.ndarray' objects}\n",
      "     1001    0.000    0.000    0.000    0.000 {built-in method builtins.isinstance}\n",
      "     1000    0.000    0.000    0.000    0.000 /home/marcelo/anaconda3/lib/python3.8/site-packages/numpy/lib/function_base.py:4758(_append_dispatcher)\n",
      "     1000    0.000    0.000    0.000    0.000 /home/marcelo/anaconda3/lib/python3.8/site-packages/numpy/core/fromnumeric.py:1714(_ravel_dispatcher)\n",
      "     1000    0.000    0.000    0.000    0.000 /home/marcelo/anaconda3/lib/python3.8/site-packages/numpy/core/multiarray.py:148(concatenate)\n",
      "        1    0.000    0.000    0.000    0.000 {method 'reduce' of 'numpy.ufunc' objects}\n",
      "        1    0.000    0.000    0.000    0.000 /home/marcelo/anaconda3/lib/python3.8/site-packages/numpy/core/fromnumeric.py:69(_wrapreduction)\n",
      "        1    0.000    0.000    0.000    0.000 {built-in method numpy.empty}\n",
      "        1    0.000    0.000    0.000    0.000 /home/marcelo/anaconda3/lib/python3.8/site-packages/numpy/core/fromnumeric.py:2123(sum)\n",
      "        1    0.000    0.000    0.000    0.000 /home/marcelo/anaconda3/lib/python3.8/cProfile.py:133(__exit__)\n",
      "        1    0.000    0.000    0.000    0.000 {built-in method builtins.len}\n",
      "        1    0.000    0.000    0.000    0.000 <__array_function__ internals>:2(sum)\n",
      "        1    0.000    0.000    0.000    0.000 /home/marcelo/anaconda3/lib/python3.8/site-packages/numpy/core/fromnumeric.py:70(<dictcomp>)\n",
      "        1    0.000    0.000    0.000    0.000 {method 'disable' of '_lsprof.Profiler' objects}\n",
      "        1    0.000    0.000    0.000    0.000 {method 'items' of 'dict' objects}\n",
      "        1    0.000    0.000    0.000    0.000 /home/marcelo/anaconda3/lib/python3.8/site-packages/numpy/core/fromnumeric.py:2118(_sum_dispatcher)\n",
      "\n",
      "\n"
     ]
    },
    {
     "data": {
      "text/plain": [
       "<pstats.Stats at 0x7f09e8760bb0>"
      ]
     },
     "execution_count": 22,
     "metadata": {},
     "output_type": "execute_result"
    }
   ],
   "source": [
    "import cProfile\n",
    "import pstats\n",
    "\n",
    "with cProfile.Profile() as pr:\n",
    "    #functions defined previously\n",
    "    supersum(1000000,33,True,nparray)  \n",
    "    zip_iteration(values,probabilities)\n",
    "    gene = sum((i*i*i for i in range(10000)))\n",
    "    \n",
    "stats=pstats.Stats(pr)\n",
    "stats.sort_stats(pstats.SortKey.TIME)\n",
    "stats.print_stats()"
   ]
  },
  {
   "cell_type": "markdown",
   "id": "9956dee1",
   "metadata": {},
   "source": [
    "the results indicate that the total time was 0.712 seconds. It also says that the function supersum is taking 0.577 sec. It also indicates that the generator is taking 0.069 sec and the respective sum 0.059 sec."
   ]
  },
  {
   "cell_type": "code",
   "execution_count": null,
   "id": "061808e9",
   "metadata": {},
   "outputs": [],
   "source": []
  }
 ],
 "metadata": {
  "kernelspec": {
   "display_name": "Python 3 (ipykernel)",
   "language": "python",
   "name": "python3"
  },
  "language_info": {
   "codemirror_mode": {
    "name": "ipython",
    "version": 3
   },
   "file_extension": ".py",
   "mimetype": "text/x-python",
   "name": "python",
   "nbconvert_exporter": "python",
   "pygments_lexer": "ipython3",
   "version": "3.8.12"
  }
 },
 "nbformat": 4,
 "nbformat_minor": 5
}
